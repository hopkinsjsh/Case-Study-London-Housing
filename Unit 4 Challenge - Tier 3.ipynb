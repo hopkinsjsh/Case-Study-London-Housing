{
 "cells": [
  {
   "cell_type": "markdown",
   "metadata": {
    "colab_type": "text",
    "id": "Tia3MP1SJpgj"
   },
   "source": [
    "# Springboard Data Science Career Track Unit 4 Challenge - Tier 3 Complete\n",
    "\n",
    "## Objectives\n",
    "Hey! Great job getting through those challenging DataCamp courses. You're learning a lot in a short span of time. \n",
    "\n",
    "In this notebook, you're going to apply the skills you've been learning, bridging the gap between the controlled environment of DataCamp and the *slightly* messier work that data scientists do with actual datasets!\n",
    "\n",
    "Here’s the mystery we’re going to solve: ***which boroughs of London have seen the greatest increase in housing prices, on average, over the last two decades?***\n",
    "\n",
    "\n",
    "A borough is just a fancy word for district. You may be familiar with the five boroughs of New York… well, there are 32 boroughs within Greater London [(here's some info for the curious)](https://en.wikipedia.org/wiki/London_boroughs). Some of them are more desirable areas to live in, and the data will reflect that with a greater rise in housing prices.\n",
    "\n",
    "***This is the Tier 3 notebook, which means it's not filled in at all: we'll just give you the skeleton of a project, the brief and the data. It's up to you to play around with it and see what you can find out! Good luck! If you struggle, feel free to look at easier tiers for help; but try to dip in and out of them, as the more independent work you do, the better it is for your learning!***\n",
    "\n",
    "This challenge will make use of only what you learned in the following DataCamp courses: \n",
    "- Prework courses (Introduction to Python for Data Science, Intermediate Python for Data Science)\n",
    "- Data Types for Data Science\n",
    "- Python Data Science Toolbox (Part One) \n",
    "- pandas Foundations\n",
    "- Manipulating DataFrames with pandas\n",
    "- Merging DataFrames with pandas\n",
    "\n",
    "Of the tools, techniques and concepts in the above DataCamp courses, this challenge should require the application of the following: \n",
    "- **pandas**\n",
    "    - **data ingestion and inspection** (pandas Foundations, Module One) \n",
    "    - **exploratory data analysis** (pandas Foundations, Module Two)\n",
    "    - **tidying and cleaning** (Manipulating DataFrames with pandas, Module Three) \n",
    "    - **transforming DataFrames** (Manipulating DataFrames with pandas, Module One)\n",
    "    - **subsetting DataFrames with lists** (Manipulating DataFrames with pandas, Module One) \n",
    "    - **filtering DataFrames** (Manipulating DataFrames with pandas, Module One) \n",
    "    - **grouping data** (Manipulating DataFrames with pandas, Module Four) \n",
    "    - **melting data** (Manipulating DataFrames with pandas, Module Three) \n",
    "    - **advanced indexing** (Manipulating DataFrames with pandas, Module Four) \n",
    "- **matplotlib** (Intermediate Python for Data Science, Module One)\n",
    "- **fundamental data types** (Data Types for Data Science, Module One) \n",
    "- **dictionaries** (Intermediate Python for Data Science, Module Two)\n",
    "- **handling dates and times** (Data Types for Data Science, Module Four)\n",
    "- **function definition** (Python Data Science Toolbox - Part One, Module One)\n",
    "- **default arguments, variable length, and scope** (Python Data Science Toolbox - Part One, Module Two) \n",
    "- **lambda functions and error handling** (Python Data Science Toolbox - Part One, Module Four) "
   ]
  },
  {
   "cell_type": "markdown",
   "metadata": {
    "colab_type": "text",
    "id": "Ipgd2nV8Jpgl"
   },
   "source": [
    "## The Data Science Pipeline\n",
    "\n",
    "This is Tier Three, so we'll get you started. But after that, it's all in your hands! When you feel done with your investigations, look back over what you've accomplished, and prepare a quick presentation of your findings for the next mentor meeting. \n",
    "\n",
    "Data Science is magical. In this case study, you'll get to apply some complex machine learning algorithms. But as  [David Spiegelhalter](https://www.youtube.com/watch?v=oUs1uvsz0Ok) reminds us, there is no substitute for simply **taking a really, really good look at the data.** Sometimes, this is all we need to answer our question.\n",
    "\n",
    "Data Science projects generally adhere to the four stages of Data Science Pipeline:\n",
    "1. Sourcing and loading \n",
    "2. Cleaning, transforming, and visualizing \n",
    "3. Modeling \n",
    "4. Evaluating and concluding \n"
   ]
  },
  {
   "cell_type": "markdown",
   "metadata": {
    "colab_type": "text",
    "id": "zswDqbefJpgm"
   },
   "source": [
    "### 1. Sourcing and Loading \n",
    "\n",
    "Any Data Science project kicks off by importing  ***pandas***. The documentation of this wonderful library can be found [here](https://pandas.pydata.org/). As you've seen, pandas is conveniently connected to the [Numpy](http://www.numpy.org/) and [Matplotlib](https://matplotlib.org/) libraries. \n",
    "\n",
    "***Hint:*** This part of the data science pipeline will test those skills you acquired in the pandas Foundations course, Module One. "
   ]
  },
  {
   "cell_type": "markdown",
   "metadata": {
    "colab_type": "text",
    "id": "aEau5nEvJpgm"
   },
   "source": [
    "#### 1.1. Importing Libraries"
   ]
  },
  {
   "cell_type": "code",
   "execution_count": 3,
   "metadata": {
    "colab": {},
    "colab_type": "code",
    "id": "7Bt_Q_oPJpgn"
   },
   "outputs": [],
   "source": [
    "# Let's import the pandas, numpy libraries as pd, and np respectively. \n",
    "import pandas as pd\n",
    "import numpy as np\n",
    "\n",
    "# Load the pyplot collection of functions from matplotlib, as plt \n",
    "import matplotlib.pyplot as plt\n"
   ]
  },
  {
   "cell_type": "markdown",
   "metadata": {
    "colab_type": "text",
    "id": "koUrawxsJpgq"
   },
   "source": [
    "#### 1.2.  Loading the data\n",
    "Your data comes from the [London Datastore](https://data.london.gov.uk/): a free, open-source data-sharing portal for London-oriented datasets. "
   ]
  },
  {
   "cell_type": "code",
   "execution_count": 6,
   "metadata": {
    "colab": {},
    "colab_type": "code",
    "id": "AiLiD4v3Jpgr"
   },
   "outputs": [
    {
     "data": {
      "text/html": [
       "<div>\n",
       "<style scoped>\n",
       "    .dataframe tbody tr th:only-of-type {\n",
       "        vertical-align: middle;\n",
       "    }\n",
       "\n",
       "    .dataframe tbody tr th {\n",
       "        vertical-align: top;\n",
       "    }\n",
       "\n",
       "    .dataframe thead th {\n",
       "        text-align: right;\n",
       "    }\n",
       "</style>\n",
       "<table border=\"1\" class=\"dataframe\">\n",
       "  <thead>\n",
       "    <tr style=\"text-align: right;\">\n",
       "      <th></th>\n",
       "      <th>Unnamed: 0</th>\n",
       "      <th>E09000001</th>\n",
       "      <th>E09000002</th>\n",
       "      <th>E09000003</th>\n",
       "      <th>E09000004</th>\n",
       "      <th>E09000005</th>\n",
       "      <th>E09000006</th>\n",
       "      <th>E09000007</th>\n",
       "      <th>E09000008</th>\n",
       "      <th>E09000009</th>\n",
       "      <th>...</th>\n",
       "      <th>E12000002</th>\n",
       "      <th>E12000003</th>\n",
       "      <th>E12000004</th>\n",
       "      <th>E12000005</th>\n",
       "      <th>E12000006</th>\n",
       "      <th>E12000007</th>\n",
       "      <th>E12000008</th>\n",
       "      <th>E12000009</th>\n",
       "      <th>Unnamed: 47</th>\n",
       "      <th>E92000001</th>\n",
       "    </tr>\n",
       "  </thead>\n",
       "  <tbody>\n",
       "    <tr>\n",
       "      <th>0</th>\n",
       "      <td>1995-01-01</td>\n",
       "      <td>91448.98487</td>\n",
       "      <td>50460.22660</td>\n",
       "      <td>93284.51832</td>\n",
       "      <td>64958.09036</td>\n",
       "      <td>71306.56698</td>\n",
       "      <td>81671.47692</td>\n",
       "      <td>120932.8881</td>\n",
       "      <td>69158.16225</td>\n",
       "      <td>79885.89069</td>\n",
       "      <td>...</td>\n",
       "      <td>43958.48001</td>\n",
       "      <td>44803.42878</td>\n",
       "      <td>45544.52227</td>\n",
       "      <td>48527.52339</td>\n",
       "      <td>56701.59610</td>\n",
       "      <td>74435.76052</td>\n",
       "      <td>64018.87894</td>\n",
       "      <td>54705.15790</td>\n",
       "      <td>NaN</td>\n",
       "      <td>53202.77128</td>\n",
       "    </tr>\n",
       "    <tr>\n",
       "      <th>1</th>\n",
       "      <td>1995-02-01</td>\n",
       "      <td>82202.77314</td>\n",
       "      <td>51085.77983</td>\n",
       "      <td>93190.16963</td>\n",
       "      <td>64787.92069</td>\n",
       "      <td>72022.26197</td>\n",
       "      <td>81657.55944</td>\n",
       "      <td>119508.8622</td>\n",
       "      <td>68951.09542</td>\n",
       "      <td>80897.06551</td>\n",
       "      <td>...</td>\n",
       "      <td>43925.42289</td>\n",
       "      <td>44528.80721</td>\n",
       "      <td>46051.57066</td>\n",
       "      <td>49341.29029</td>\n",
       "      <td>56593.59475</td>\n",
       "      <td>72777.93709</td>\n",
       "      <td>63715.02399</td>\n",
       "      <td>54356.14843</td>\n",
       "      <td>NaN</td>\n",
       "      <td>53096.15490</td>\n",
       "    </tr>\n",
       "    <tr>\n",
       "      <th>2</th>\n",
       "      <td>1995-03-01</td>\n",
       "      <td>79120.70256</td>\n",
       "      <td>51268.96956</td>\n",
       "      <td>92247.52435</td>\n",
       "      <td>64367.49344</td>\n",
       "      <td>72015.76274</td>\n",
       "      <td>81449.31143</td>\n",
       "      <td>120282.2131</td>\n",
       "      <td>68712.44341</td>\n",
       "      <td>81379.86288</td>\n",
       "      <td>...</td>\n",
       "      <td>44434.86810</td>\n",
       "      <td>45200.46775</td>\n",
       "      <td>45383.82395</td>\n",
       "      <td>49442.17973</td>\n",
       "      <td>56171.18278</td>\n",
       "      <td>73896.84204</td>\n",
       "      <td>64113.60858</td>\n",
       "      <td>53583.07667</td>\n",
       "      <td>NaN</td>\n",
       "      <td>53201.28430</td>\n",
       "    </tr>\n",
       "    <tr>\n",
       "      <th>3</th>\n",
       "      <td>1995-04-01</td>\n",
       "      <td>77101.20804</td>\n",
       "      <td>53133.50526</td>\n",
       "      <td>90762.87492</td>\n",
       "      <td>64277.66881</td>\n",
       "      <td>72965.63094</td>\n",
       "      <td>81124.41227</td>\n",
       "      <td>120097.8990</td>\n",
       "      <td>68610.04641</td>\n",
       "      <td>82188.90498</td>\n",
       "      <td>...</td>\n",
       "      <td>44267.77960</td>\n",
       "      <td>45614.34341</td>\n",
       "      <td>46124.23045</td>\n",
       "      <td>49455.93299</td>\n",
       "      <td>56567.89582</td>\n",
       "      <td>74455.28754</td>\n",
       "      <td>64623.22395</td>\n",
       "      <td>54786.01938</td>\n",
       "      <td>NaN</td>\n",
       "      <td>53590.85480</td>\n",
       "    </tr>\n",
       "    <tr>\n",
       "      <th>4</th>\n",
       "      <td>1995-05-01</td>\n",
       "      <td>84409.14932</td>\n",
       "      <td>53042.24852</td>\n",
       "      <td>90258.00033</td>\n",
       "      <td>63997.13588</td>\n",
       "      <td>73704.04743</td>\n",
       "      <td>81542.61561</td>\n",
       "      <td>119929.2782</td>\n",
       "      <td>68844.91690</td>\n",
       "      <td>82077.05525</td>\n",
       "      <td>...</td>\n",
       "      <td>44223.61973</td>\n",
       "      <td>44830.98563</td>\n",
       "      <td>45878.00396</td>\n",
       "      <td>50369.66188</td>\n",
       "      <td>56479.80183</td>\n",
       "      <td>75432.02786</td>\n",
       "      <td>64530.36358</td>\n",
       "      <td>54698.83831</td>\n",
       "      <td>NaN</td>\n",
       "      <td>53678.24041</td>\n",
       "    </tr>\n",
       "  </tbody>\n",
       "</table>\n",
       "<p>5 rows × 49 columns</p>\n",
       "</div>"
      ],
      "text/plain": [
       "  Unnamed: 0    E09000001    E09000002    E09000003    E09000004    E09000005  \\\n",
       "0 1995-01-01  91448.98487  50460.22660  93284.51832  64958.09036  71306.56698   \n",
       "1 1995-02-01  82202.77314  51085.77983  93190.16963  64787.92069  72022.26197   \n",
       "2 1995-03-01  79120.70256  51268.96956  92247.52435  64367.49344  72015.76274   \n",
       "3 1995-04-01  77101.20804  53133.50526  90762.87492  64277.66881  72965.63094   \n",
       "4 1995-05-01  84409.14932  53042.24852  90258.00033  63997.13588  73704.04743   \n",
       "\n",
       "     E09000006    E09000007    E09000008    E09000009  ...    E12000002  \\\n",
       "0  81671.47692  120932.8881  69158.16225  79885.89069  ...  43958.48001   \n",
       "1  81657.55944  119508.8622  68951.09542  80897.06551  ...  43925.42289   \n",
       "2  81449.31143  120282.2131  68712.44341  81379.86288  ...  44434.86810   \n",
       "3  81124.41227  120097.8990  68610.04641  82188.90498  ...  44267.77960   \n",
       "4  81542.61561  119929.2782  68844.91690  82077.05525  ...  44223.61973   \n",
       "\n",
       "     E12000003    E12000004    E12000005    E12000006    E12000007  \\\n",
       "0  44803.42878  45544.52227  48527.52339  56701.59610  74435.76052   \n",
       "1  44528.80721  46051.57066  49341.29029  56593.59475  72777.93709   \n",
       "2  45200.46775  45383.82395  49442.17973  56171.18278  73896.84204   \n",
       "3  45614.34341  46124.23045  49455.93299  56567.89582  74455.28754   \n",
       "4  44830.98563  45878.00396  50369.66188  56479.80183  75432.02786   \n",
       "\n",
       "     E12000008    E12000009  Unnamed: 47    E92000001  \n",
       "0  64018.87894  54705.15790          NaN  53202.77128  \n",
       "1  63715.02399  54356.14843          NaN  53096.15490  \n",
       "2  64113.60858  53583.07667          NaN  53201.28430  \n",
       "3  64623.22395  54786.01938          NaN  53590.85480  \n",
       "4  64530.36358  54698.83831          NaN  53678.24041  \n",
       "\n",
       "[5 rows x 49 columns]"
      ]
     },
     "execution_count": 6,
     "metadata": {},
     "output_type": "execute_result"
    }
   ],
   "source": [
    "# First, make a variable called url_LondonHousePrices, and assign it the following link, enclosed in quotation-marks as a string:\n",
    "# https://data.london.gov.uk/download/uk-house-price-index/70ac0766-8902-4eb5-aab5-01951aaed773/UK%20House%20price%20index.xls\n",
    "\n",
    "url_LondonHousePrices = \"https://data.london.gov.uk/download/uk-house-price-index/70ac0766-8902-4eb5-aab5-01951aaed773/UK%20House%20price%20index.xls\"\n",
    "\n",
    "# The dataset we're interested in contains the Average prices of the houses, and is actually on a particular sheet of the Excel file. \n",
    "# As a result, we need to specify the sheet name in the read_excel() method.\n",
    "# Put this data into a variable called properties.  \n",
    "properties =pd.read_excel(url_LondonHousePrices, sheet_name='Average price', index_col=None, header=1)\n",
    "properties.head()"
   ]
  },
  {
   "cell_type": "markdown",
   "metadata": {
    "colab_type": "text",
    "id": "POukEJXgJpgu"
   },
   "source": [
    "### 2. Cleaning, transforming, and visualizing\n",
    "This second stage is arguably the most important part of any Data Science project. The first thing to do is take a proper look at the data. Cleaning forms the majority of this stage, and can be done both before or after Transformation.\n",
    "\n",
    "The end goal of data cleaning is to have tidy data. When data is tidy: \n",
    "\n",
    "1. Each variable has a column.\n",
    "2. Each observation forms a row.\n",
    "\n",
    "Keep the end goal in mind as you move through this process, every step will take you closer. \n",
    "\n",
    "\n",
    "\n",
    "***Hint:*** This part of the data science pipeline should test those skills you acquired in: \n",
    "- Intermediate Python for data science, all modules.\n",
    "- pandas Foundations, all modules. \n",
    "- Manipulating DataFrames with pandas, all modules.\n",
    "- Data Types for Data Science, Module Four.\n",
    "- Python Data Science Toolbox - Part One, all modules"
   ]
  },
  {
   "cell_type": "markdown",
   "metadata": {
    "colab_type": "text",
    "id": "Te0Q548tnzZa"
   },
   "source": [
    "**2.1. Exploring your data** \n",
    "\n",
    "Think about your pandas functions for checking out a dataframe. "
   ]
  },
  {
   "cell_type": "code",
   "execution_count": 7,
   "metadata": {
    "colab": {},
    "colab_type": "code",
    "id": "Rxirxw_qoAJa"
   },
   "outputs": [
    {
     "name": "stdout",
     "output_type": "stream",
     "text": [
      "  Unnamed: 0    E09000001    E09000002    E09000003    E09000004    E09000005  \\\n",
      "0 1995-01-01  91448.98487  50460.22660  93284.51832  64958.09036  71306.56698   \n",
      "1 1995-02-01  82202.77314  51085.77983  93190.16963  64787.92069  72022.26197   \n",
      "2 1995-03-01  79120.70256  51268.96956  92247.52435  64367.49344  72015.76274   \n",
      "3 1995-04-01  77101.20804  53133.50526  90762.87492  64277.66881  72965.63094   \n",
      "4 1995-05-01  84409.14932  53042.24852  90258.00033  63997.13588  73704.04743   \n",
      "\n",
      "     E09000006    E09000007    E09000008    E09000009  ...    E12000002  \\\n",
      "0  81671.47692  120932.8881  69158.16225  79885.89069  ...  43958.48001   \n",
      "1  81657.55944  119508.8622  68951.09542  80897.06551  ...  43925.42289   \n",
      "2  81449.31143  120282.2131  68712.44341  81379.86288  ...  44434.86810   \n",
      "3  81124.41227  120097.8990  68610.04641  82188.90498  ...  44267.77960   \n",
      "4  81542.61561  119929.2782  68844.91690  82077.05525  ...  44223.61973   \n",
      "\n",
      "     E12000003    E12000004    E12000005    E12000006    E12000007  \\\n",
      "0  44803.42878  45544.52227  48527.52339  56701.59610  74435.76052   \n",
      "1  44528.80721  46051.57066  49341.29029  56593.59475  72777.93709   \n",
      "2  45200.46775  45383.82395  49442.17973  56171.18278  73896.84204   \n",
      "3  45614.34341  46124.23045  49455.93299  56567.89582  74455.28754   \n",
      "4  44830.98563  45878.00396  50369.66188  56479.80183  75432.02786   \n",
      "\n",
      "     E12000008    E12000009  Unnamed: 47    E92000001  \n",
      "0  64018.87894  54705.15790          NaN  53202.77128  \n",
      "1  63715.02399  54356.14843          NaN  53096.15490  \n",
      "2  64113.60858  53583.07667          NaN  53201.28430  \n",
      "3  64623.22395  54786.01938          NaN  53590.85480  \n",
      "4  64530.36358  54698.83831          NaN  53678.24041  \n",
      "\n",
      "[5 rows x 49 columns]\n"
     ]
    }
   ],
   "source": [
    "import pandas as pd \n",
    "url = \"https://data.london.gov.uk/download/uk-house-price-index/70ac0766-8902-4eb5-aab5-01951aaed773/UK%20House%20price%20index.xls\"\n",
    "data = pd.read_excel(url, sheet_name='Average price', header=1)\n",
    "print(data.head())"
   ]
  },
  {
   "cell_type": "markdown",
   "metadata": {
    "colab_type": "text",
    "id": "tE9Sqt9-oAta"
   },
   "source": [
    "**2.2. Cleaning the data**\n",
    "\n",
    "You might find you need to transpose your dataframe, check out what its row indexes are, and reset the index. You  also might find you need to assign the values of the first row to your column headings  . (Hint: recall the .columns feature of DataFrames, as well as the iloc[] method).\n",
    "\n",
    "Don't be afraid to use StackOverflow for help  with this."
   ]
  },
  {
   "cell_type": "code",
   "execution_count": 8,
   "metadata": {},
   "outputs": [
    {
     "name": "stdout",
     "output_type": "stream",
     "text": [
      "                            0                    1                    2    \\\n",
      "Unnamed: 0  1995-01-01 00:00:00  1995-02-01 00:00:00  1995-03-01 00:00:00   \n",
      "E09000001           91448.98487          82202.77314          79120.70256   \n",
      "E09000002            50460.2266          51085.77983          51268.96956   \n",
      "E09000003           93284.51832          93190.16963          92247.52435   \n",
      "E09000004           64958.09036          64787.92069          64367.49344   \n",
      "\n",
      "                            3                    4                    5    \\\n",
      "Unnamed: 0  1995-04-01 00:00:00  1995-05-01 00:00:00  1995-06-01 00:00:00   \n",
      "E09000001           77101.20804          84409.14932          94900.51244   \n",
      "E09000002           53133.50526          53042.24852          53700.34831   \n",
      "E09000003           90762.87492          90258.00033          90107.23471   \n",
      "E09000004           64277.66881          63997.13588          64252.32335   \n",
      "\n",
      "                            6                    7                    8    \\\n",
      "Unnamed: 0  1995-07-01 00:00:00  1995-08-01 00:00:00  1995-09-01 00:00:00   \n",
      "E09000001           110128.0423          112329.4376          104473.1096   \n",
      "E09000002           52113.12157          52232.19868          51471.61353   \n",
      "E09000003           91441.24768          92361.31512          93273.12245   \n",
      "E09000004           63722.70055          64432.60005          64509.54767   \n",
      "\n",
      "                            9    ...                  349  \\\n",
      "Unnamed: 0  1995-10-01 00:00:00  ...  2024-02-01 00:00:00   \n",
      "E09000001           108038.1181  ...             840075.0   \n",
      "E09000002            51513.7576  ...             328266.0   \n",
      "E09000003           92567.38498  ...             563115.0   \n",
      "E09000004           64529.93725  ...             394741.0   \n",
      "\n",
      "                            350                  351                  352  \\\n",
      "Unnamed: 0  2024-03-01 00:00:00  2024-04-01 00:00:00  2024-05-01 00:00:00   \n",
      "E09000001              831249.0             810250.0             813219.0   \n",
      "E09000002              333303.0             335559.0             335794.0   \n",
      "E09000003              569976.0             573051.0             580130.0   \n",
      "E09000004              395633.0             396584.0             396070.0   \n",
      "\n",
      "                            353                  354                  355  \\\n",
      "Unnamed: 0  2024-06-01 00:00:00  2024-07-01 00:00:00  2024-08-01 00:00:00   \n",
      "E09000001              808227.0             754954.0             750362.0   \n",
      "E09000002              332826.0             340826.0             338083.0   \n",
      "E09000003              584621.0             590027.0             596078.0   \n",
      "E09000004              400617.0             401848.0             406623.0   \n",
      "\n",
      "                            356                  357                  358  \n",
      "Unnamed: 0  2024-09-01 00:00:00  2024-10-01 00:00:00  2024-11-01 00:00:00  \n",
      "E09000001              719570.0             692265.0             670906.0  \n",
      "E09000002              340295.0             340932.0             343528.0  \n",
      "E09000003              592861.0             589938.0             592678.0  \n",
      "E09000004              408441.0             408837.0             406441.0  \n",
      "\n",
      "[5 rows x 359 columns]\n",
      "        index                    0                    1                    2  \\\n",
      "0  Unnamed: 0  1995-01-01 00:00:00  1995-02-01 00:00:00  1995-03-01 00:00:00   \n",
      "1   E09000001          91448.98487          82202.77314          79120.70256   \n",
      "2   E09000002           50460.2266          51085.77983          51268.96956   \n",
      "3   E09000003          93284.51832          93190.16963          92247.52435   \n",
      "4   E09000004          64958.09036          64787.92069          64367.49344   \n",
      "\n",
      "                     3                    4                    5  \\\n",
      "0  1995-04-01 00:00:00  1995-05-01 00:00:00  1995-06-01 00:00:00   \n",
      "1          77101.20804          84409.14932          94900.51244   \n",
      "2          53133.50526          53042.24852          53700.34831   \n",
      "3          90762.87492          90258.00033          90107.23471   \n",
      "4          64277.66881          63997.13588          64252.32335   \n",
      "\n",
      "                     6                    7                    8  ...  \\\n",
      "0  1995-07-01 00:00:00  1995-08-01 00:00:00  1995-09-01 00:00:00  ...   \n",
      "1          110128.0423          112329.4376          104473.1096  ...   \n",
      "2          52113.12157          52232.19868          51471.61353  ...   \n",
      "3          91441.24768          92361.31512          93273.12245  ...   \n",
      "4          63722.70055          64432.60005          64509.54767  ...   \n",
      "\n",
      "                   349                  350                  351  \\\n",
      "0  2024-02-01 00:00:00  2024-03-01 00:00:00  2024-04-01 00:00:00   \n",
      "1             840075.0             831249.0             810250.0   \n",
      "2             328266.0             333303.0             335559.0   \n",
      "3             563115.0             569976.0             573051.0   \n",
      "4             394741.0             395633.0             396584.0   \n",
      "\n",
      "                   352                  353                  354  \\\n",
      "0  2024-05-01 00:00:00  2024-06-01 00:00:00  2024-07-01 00:00:00   \n",
      "1             813219.0             808227.0             754954.0   \n",
      "2             335794.0             332826.0             340826.0   \n",
      "3             580130.0             584621.0             590027.0   \n",
      "4             396070.0             400617.0             401848.0   \n",
      "\n",
      "                   355                  356                  357  \\\n",
      "0  2024-08-01 00:00:00  2024-09-01 00:00:00  2024-10-01 00:00:00   \n",
      "1             750362.0             719570.0             692265.0   \n",
      "2             338083.0             340295.0             340932.0   \n",
      "3             596078.0             592861.0             589938.0   \n",
      "4             406623.0             408441.0             408837.0   \n",
      "\n",
      "                   358  \n",
      "0  2024-11-01 00:00:00  \n",
      "1             670906.0  \n",
      "2             343528.0  \n",
      "3             592678.0  \n",
      "4             406441.0  \n",
      "\n",
      "[5 rows x 360 columns]\n",
      "0 Unnamed: 0 1995-01-01 00:00:00 1995-02-01 00:00:00 1995-03-01 00:00:00  \\\n",
      "1  E09000001         91448.98487         82202.77314         79120.70256   \n",
      "2  E09000002          50460.2266         51085.77983         51268.96956   \n",
      "3  E09000003         93284.51832         93190.16963         92247.52435   \n",
      "4  E09000004         64958.09036         64787.92069         64367.49344   \n",
      "5  E09000005         71306.56698         72022.26197         72015.76274   \n",
      "\n",
      "0 1995-04-01 00:00:00 1995-05-01 00:00:00 1995-06-01 00:00:00  \\\n",
      "1         77101.20804         84409.14932         94900.51244   \n",
      "2         53133.50526         53042.24852         53700.34831   \n",
      "3         90762.87492         90258.00033         90107.23471   \n",
      "4         64277.66881         63997.13588         64252.32335   \n",
      "5         72965.63094         73704.04743         74310.48167   \n",
      "\n",
      "0 1995-07-01 00:00:00 1995-08-01 00:00:00 1995-09-01 00:00:00  ...  \\\n",
      "1         110128.0423         112329.4376         104473.1096  ...   \n",
      "2         52113.12157         52232.19868         51471.61353  ...   \n",
      "3         91441.24768         92361.31512         93273.12245  ...   \n",
      "4         63722.70055         64432.60005         64509.54767  ...   \n",
      "5         74127.03788          73547.0411         73789.54287  ...   \n",
      "\n",
      "0 2024-02-01 00:00:00 2024-03-01 00:00:00 2024-04-01 00:00:00  \\\n",
      "1            840075.0            831249.0            810250.0   \n",
      "2            328266.0            333303.0            335559.0   \n",
      "3            563115.0            569976.0            573051.0   \n",
      "4            394741.0            395633.0            396584.0   \n",
      "5            524230.0            515007.0            502686.0   \n",
      "\n",
      "0 2024-05-01 00:00:00 2024-06-01 00:00:00 2024-07-01 00:00:00  \\\n",
      "1            813219.0            808227.0            754954.0   \n",
      "2            335794.0            332826.0            340826.0   \n",
      "3            580130.0            584621.0            590027.0   \n",
      "4            396070.0            400617.0            401848.0   \n",
      "5            503373.0            529306.0            529279.0   \n",
      "\n",
      "0 2024-08-01 00:00:00 2024-09-01 00:00:00 2024-10-01 00:00:00  \\\n",
      "1            750362.0            719570.0            692265.0   \n",
      "2            338083.0            340295.0            340932.0   \n",
      "3            596078.0            592861.0            589938.0   \n",
      "4            406623.0            408441.0            408837.0   \n",
      "5            545384.0            544571.0            553641.0   \n",
      "\n",
      "0 2024-11-01 00:00:00  \n",
      "1            670906.0  \n",
      "2            343528.0  \n",
      "3            592678.0  \n",
      "4            406441.0  \n",
      "5            545671.0  \n",
      "\n",
      "[5 rows x 360 columns]\n"
     ]
    }
   ],
   "source": [
    "data_T = data. T\n",
    "print(data_T.head())\n",
    "data_T = data_T.reset_index()\n",
    "print(data_T.head())\n",
    "data_T.columns = data_T.iloc[0]\n",
    "data_T = data_T[1:]\n",
    "print(data_T.head())\n",
    "                    "
   ]
  },
  {
   "cell_type": "markdown",
   "metadata": {
    "colab_type": "text",
    "id": "o1uLbJAsoIjK"
   },
   "source": [
    "**2.3. Cleaning the data (part 2)**\n",
    "\n",
    "You might we have to **rename** a couple columns. How do you do this? The clue's pretty bold..."
   ]
  },
  {
   "cell_type": "code",
   "execution_count": 14,
   "metadata": {},
   "outputs": [
    {
     "name": "stdout",
     "output_type": "stream",
     "text": [
      "        Date    E09000001    E09000002    E09000003    E09000004    E09000005  \\\n",
      "0 1995-01-01  91448.98487  50460.22660  93284.51832  64958.09036  71306.56698   \n",
      "1 1995-02-01  82202.77314  51085.77983  93190.16963  64787.92069  72022.26197   \n",
      "2 1995-03-01  79120.70256  51268.96956  92247.52435  64367.49344  72015.76274   \n",
      "3 1995-04-01  77101.20804  53133.50526  90762.87492  64277.66881  72965.63094   \n",
      "4 1995-05-01  84409.14932  53042.24852  90258.00033  63997.13588  73704.04743   \n",
      "\n",
      "     E09000006    E09000007    E09000008    E09000009  ...    E12000002  \\\n",
      "0  81671.47692  120932.8881  69158.16225  79885.89069  ...  43958.48001   \n",
      "1  81657.55944  119508.8622  68951.09542  80897.06551  ...  43925.42289   \n",
      "2  81449.31143  120282.2131  68712.44341  81379.86288  ...  44434.86810   \n",
      "3  81124.41227  120097.8990  68610.04641  82188.90498  ...  44267.77960   \n",
      "4  81542.61561  119929.2782  68844.91690  82077.05525  ...  44223.61973   \n",
      "\n",
      "     E12000003    E12000004    E12000005    E12000006    E12000007  \\\n",
      "0  44803.42878  45544.52227  48527.52339  56701.59610  74435.76052   \n",
      "1  44528.80721  46051.57066  49341.29029  56593.59475  72777.93709   \n",
      "2  45200.46775  45383.82395  49442.17973  56171.18278  73896.84204   \n",
      "3  45614.34341  46124.23045  49455.93299  56567.89582  74455.28754   \n",
      "4  44830.98563  45878.00396  50369.66188  56479.80183  75432.02786   \n",
      "\n",
      "     E12000008    E12000009  Unnamed: 47    E92000001  \n",
      "0  64018.87894  54705.15790          NaN  53202.77128  \n",
      "1  63715.02399  54356.14843          NaN  53096.15490  \n",
      "2  64113.60858  53583.07667          NaN  53201.28430  \n",
      "3  64623.22395  54786.01938          NaN  53590.85480  \n",
      "4  64530.36358  54698.83831          NaN  53678.24041  \n",
      "\n",
      "[5 rows x 49 columns]\n"
     ]
    }
   ],
   "source": [
    "properties.rename(columns={properties.columns[0]: \"Date\"}, inplace=True)\n",
    "properties[\"Date\"] = pd.to_datetime(properties[\"Date\"])\n",
    "print(properties.head())"
   ]
  },
  {
   "cell_type": "markdown",
   "metadata": {
    "colab_type": "text",
    "id": "jy8BzXHmoWEw"
   },
   "source": [
    "**2.4.Transforming the data**\n",
    "\n",
    "Remember what Wes McKinney said about tidy data? \n",
    "\n",
    "You might need to **melt** your DataFrame here. "
   ]
  },
  {
   "cell_type": "markdown",
   "metadata": {
    "colab_type": "text",
    "id": "7kIsgAo7o3mf"
   },
   "source": [
    "Remember to make sure your column data types are all correct. Average prices, for example, should be floating point numbers... "
   ]
  },
  {
   "cell_type": "code",
   "execution_count": 15,
   "metadata": {},
   "outputs": [
    {
     "name": "stdout",
     "output_type": "stream",
     "text": [
      "        Date    Borough  Average Price  average Price\n",
      "0 1995-01-01  E09000001    91448.98487    91448.98487\n",
      "1 1995-02-01  E09000001    82202.77314    82202.77314\n",
      "2 1995-03-01  E09000001    79120.70256    79120.70256\n",
      "3 1995-04-01  E09000001    77101.20804    77101.20804\n",
      "4 1995-05-01  E09000001    84409.14932    84409.14932\n"
     ]
    }
   ],
   "source": [
    "properties_melted = properties.melt(id_vars=[\"Date\"], var_name=\"Borough\", value_name=\"Average Price\")\n",
    "properties_melted[\"average Price\"] = properties_melted[\"Average Price\"].astype(float)\n",
    "print(properties_melted.head())"
   ]
  },
  {
   "cell_type": "markdown",
   "metadata": {
    "colab_type": "text",
    "id": "knLUXHLypOtw"
   },
   "source": [
    "**2.5. Cleaning the data (part 3)**\n",
    "\n",
    "Do we have an equal number of observations in the ID, Average Price, Month, and London Borough columns? Remember that there are only 32 London Boroughs. How many entries do you have in that column? \n",
    "\n",
    "Check out the contents of the London Borough column, and if you find null values, get rid of them however you see fit. "
   ]
  },
  {
   "cell_type": "code",
   "execution_count": 17,
   "metadata": {
    "colab": {},
    "colab_type": "code",
    "id": "BnvTW5a3p0fC"
   },
   "outputs": [
    {
     "name": "stdout",
     "output_type": "stream",
     "text": [
      "48\n",
      "['E09000001' 'E09000002' 'E09000003' 'E09000004' 'E09000005' 'E09000006'\n",
      " 'E09000007' 'E09000008' 'E09000009' 'E09000010' 'E09000011' 'E09000012'\n",
      " 'E09000013' 'E09000014' 'E09000015' 'E09000016' 'E09000017' 'E09000018'\n",
      " 'E09000019' 'E09000020' 'E09000021' 'E09000022' 'E09000023' 'E09000024'\n",
      " 'E09000025' 'E09000026' 'E09000027' 'E09000028' 'E09000029' 'E09000030'\n",
      " 'E09000031' 'E09000032' 'E09000033' 'Unnamed: 34' 'E13000001' 'E13000002'\n",
      " 'Unnamed: 37' 'E12000001' 'E12000002' 'E12000003' 'E12000004' 'E12000005'\n",
      " 'E12000006' 'E12000007' 'E12000008' 'E12000009' 'Unnamed: 47' 'E92000001']\n"
     ]
    }
   ],
   "source": [
    "print(properties_melted[\"Borough\"].nunique())\n",
    "print(properties_melted[\"Borough\"].unique())"
   ]
  },
  {
   "cell_type": "code",
   "execution_count": 19,
   "metadata": {},
   "outputs": [
    {
     "name": "stdout",
     "output_type": "stream",
     "text": [
      "33\n",
      "        Date    Borough  Average Price  average Price\n",
      "0 1995-01-01  E09000001    91448.98487    91448.98487\n",
      "1 1995-02-01  E09000001    82202.77314    82202.77314\n",
      "2 1995-03-01  E09000001    79120.70256    79120.70256\n",
      "3 1995-04-01  E09000001    77101.20804    77101.20804\n",
      "4 1995-05-01  E09000001    84409.14932    84409.14932\n"
     ]
    }
   ],
   "source": [
    "cleaned_data = properties_melted[~properties_melted[\"Borough\"].str.contains(\"Unnamed\", na=False)]\n",
    "cleaned_data = cleaned_data[cleaned_data[\"Borough\"].str.startswith(\"E090\")]\n",
    "print(cleaned_data[\"Borough\"].nunique())\n",
    "print(cleaned_data.head())"
   ]
  },
  {
   "cell_type": "code",
   "execution_count": 24,
   "metadata": {},
   "outputs": [
    {
     "name": "stdout",
     "output_type": "stream",
     "text": [
      "['E09000001' 'E09000002' 'E09000003' 'E09000004' 'E09000005' 'E09000006'\n",
      " 'E09000007' 'E09000008' 'E09000009' 'E09000010' 'E09000011' 'E09000012'\n",
      " 'E09000013' 'E09000014' 'E09000015' 'E09000016' 'E09000017' 'E09000018'\n",
      " 'E09000019' 'E09000020' 'E09000021' 'E09000022' 'E09000023' 'E09000024'\n",
      " 'E09000025' 'E09000026' 'E09000027' 'E09000028' 'E09000029' 'E09000030'\n",
      " 'E09000031' 'E09000032']\n",
      "32\n",
      "Index(['Date', 'Borough', 'Average Price', 'average Price'], dtype='object')\n",
      "32\n",
      "        Date    Borough  Average Price  average Price\n",
      "0 1995-01-01  E09000001    91448.98487    91448.98487\n",
      "1 1995-02-01  E09000001    82202.77314    82202.77314\n",
      "2 1995-03-01  E09000001    79120.70256    79120.70256\n",
      "3 1995-04-01  E09000001    77101.20804    77101.20804\n",
      "4 1995-05-01  E09000001    84409.14932    84409.14932\n"
     ]
    }
   ],
   "source": [
    "print(cleaned_data[\"Borough\"].unique())\n",
    "print(cleaned_data[\"Borough\"].nunique())\n",
    "cleaned_data = cleaned_data.loc[:, ~cleaned_data.columns.duplicated()]\n",
    "print(cleaned_data.columns)\n",
    "print(cleaned_data[\"Borough\"].nunique())\n",
    "print(cleaned_data.head())"
   ]
  },
  {
   "cell_type": "code",
   "execution_count": 25,
   "metadata": {},
   "outputs": [
    {
     "name": "stdout",
     "output_type": "stream",
     "text": [
      "Index(['Date', 'Borough', 'Average Price'], dtype='object')\n",
      "        Date    Borough  Average Price\n",
      "0 1995-01-01  E09000001    91448.98487\n",
      "1 1995-02-01  E09000001    82202.77314\n",
      "2 1995-03-01  E09000001    79120.70256\n",
      "3 1995-04-01  E09000001    77101.20804\n",
      "4 1995-05-01  E09000001    84409.14932\n"
     ]
    }
   ],
   "source": [
    "cleaned_data = cleaned_data.drop(columns=[\"average Price\"])\n",
    "print(cleaned_data.columns)\n",
    "print(cleaned_data.head())"
   ]
  },
  {
   "cell_type": "markdown",
   "metadata": {
    "colab_type": "text",
    "id": "PGEx6mJsp6dG"
   },
   "source": [
    "**2.6. Visualizing the data**\n",
    "\n",
    "To visualize the data, why not subset on a particular London Borough? Maybe do a line plot of Month against Average Price?"
   ]
  },
  {
   "cell_type": "code",
   "execution_count": 27,
   "metadata": {
    "colab": {},
    "colab_type": "code",
    "id": "nAg5pT9cqHAR"
   },
   "outputs": [
    {
     "data": {
      "image/png": "[encoded data removed]",
      "text/plain": [
       "<Figure size 800x500 with 1 Axes>"
      ]
     },
     "metadata": {},
     "output_type": "display_data"
    }
   ],
   "source": [
    "import matplotlib.pyplot as plt\n",
    "borough_data = cleaned_data[cleaned_data[\"Borough\"] == \"E09000001\"]\n",
    "borough_data.plot(x=\"Date\", y=\"Average Price\", title=\"House Prices Over Time\",figsize=(8,5))\n",
    "plt.show()"
   ]
  },
  {
   "cell_type": "markdown",
   "metadata": {
    "colab_type": "text",
    "id": "aWTPqSJeqHnC"
   },
   "source": [
    "To limit the number of data points you have, you might want to extract the year from every month value your *Month* column. \n",
    "\n",
    "To this end, you *could* apply a ***lambda function***. Your logic could work as follows:\n",
    "1. look through the `Month` column\n",
    "2. extract the year from each individual value in that column \n",
    "3. store that corresponding year as separate column. \n",
    "\n",
    "Whether you go ahead with this is up to you. Just so long as you answer our initial brief: which boroughs of London have seen the greatest house price increase, on average, over the past two decades? "
   ]
  },
  {
   "cell_type": "code",
   "execution_count": 29,
   "metadata": {
    "colab": {},
    "colab_type": "code",
    "id": "e0DF92cyqnu8"
   },
   "outputs": [
    {
     "name": "stdout",
     "output_type": "stream",
     "text": [
      "        Date    Borough  Average Price  Year\n",
      "0 1995-01-01  E09000001    91448.98487  1995\n",
      "1 1995-02-01  E09000001    82202.77314  1995\n",
      "2 1995-03-01  E09000001    79120.70256  1995\n",
      "3 1995-04-01  E09000001    77101.20804  1995\n",
      "4 1995-05-01  E09000001    84409.14932  1995\n"
     ]
    }
   ],
   "source": [
    "cleaned_data[\"Year\"] = cleaned_data[\"Date\"].apply(lambda x: x.year)\n",
    "print(cleaned_data.head())"
   ]
  },
  {
   "cell_type": "code",
   "execution_count": 31,
   "metadata": {},
   "outputs": [
    {
     "name": "stdout",
     "output_type": "stream",
     "text": [
      "Year       Price Increase (%)\n",
      "Borough                      \n",
      "E09000012          793.093584\n",
      "E09000031          703.465127\n",
      "E09000001          682.500727\n",
      "E09000022          675.296306\n",
      "E09000028          660.667530\n",
      "E09000023          658.025683\n",
      "E09000025          641.939805\n",
      "E09000030          623.471876\n",
      "E09000005          623.423199\n",
      "E09000019          622.343485\n",
      "E09000014          612.103957\n",
      "E09000011          602.425747\n",
      "E09000024          600.004974\n",
      "E09000032          598.997114\n",
      "E09000007          590.343564\n",
      "E09000027          565.881124\n",
      "E09000026          560.404740\n",
      "E09000009          558.924364\n",
      "E09000021          556.925098\n",
      "E09000002          548.802309\n",
      "E09000020          541.998975\n",
      "E09000003          534.684690\n",
      "E09000004          523.627434\n",
      "E09000013          521.113457\n",
      "E09000018          521.059777\n",
      "E09000015          513.087844\n",
      "E09000017          509.799063\n",
      "E09000029          509.185398\n",
      "E09000010          508.349745\n",
      "E09000016          507.213660\n",
      "E09000006          500.862328\n",
      "E09000008          470.963327\n"
     ]
    }
   ],
   "source": [
    "yearly_prices = cleaned_data.groupby([\"Borough\", \"Year\"])[\"Average Price\"].mean().reset_index()\n",
    "first_year = yearly_prices[\"Year\"].min()\n",
    "last_year = yearly_prices[\"Year\"].max()\n",
    "price_change = yearly_prices.pivot(index=\"Borough\", columns=\"Year\", values=\"Average Price\")\n",
    "price_change[\"Price Increase (%)\"] = ((price_change[last_year] - price_change[first_year]) / price_change[first_year]) * 100\n",
    "top_boroughs = price_change[[\"Price Increase (%)\"]].sort_values(by=\"Price Increase (%)\", ascending=False)\n",
    "print(top_boroughs)                                                                "
   ]
  },
  {
   "cell_type": "markdown",
   "metadata": {
    "colab_type": "text",
    "id": "2knuTxAEqoJ4"
   },
   "source": [
    "**3. Modeling**\n",
    "\n",
    "Consider creating a function that will calculate a ratio of house prices, comparing the price of a house in 2018 to the price in 1998.\n",
    "\n",
    "Consider calling this function create_price_ratio.\n",
    "\n",
    "You'd want this function to:\n",
    "1. Take a filter of dfg, specifically where this filter constrains the London_Borough, as an argument. For example, one admissible argument should be: dfg[dfg['London_Borough']=='Camden'].\n",
    "2. Get the Average Price for that Borough, for the years 1998 and 2018.\n",
    "4. Calculate the ratio of the Average Price for 1998 divided by the Average Price for 2018.\n",
    "5. Return that ratio.\n",
    "\n",
    "Once you've written this function, you ultimately want to use it to iterate through all the unique London_Boroughs and work out the ratio capturing the difference of house prices between 1998 and 2018.\n",
    "\n",
    "Bear in mind: you don't have to write a function like this if you don't want to. If you can solve the brief otherwise, then great! \n",
    "\n",
    "***Hint***: This section should test the skills you acquired in:\n",
    "- Python Data Science Toolbox - Part One, all modules"
   ]
  },
  {
   "cell_type": "code",
   "execution_count": 40,
   "metadata": {
    "colab": {},
    "colab_type": "code",
    "id": "cKTyr437UgDa"
   },
   "outputs": [
    {
     "name": "stdout",
     "output_type": "stream",
     "text": [
      "             Borough  Price Ratio (2018/1998)\n",
      "Borough                                      \n",
      "E09000012  E09000012                 6.198336\n",
      "E09000031  E09000031                 5.835127\n",
      "E09000028  E09000028                 5.516372\n",
      "E09000023  E09000023                 5.447912\n",
      "E09000025  E09000025                 5.307656\n",
      "E09000001  E09000001                 5.302624\n",
      "E09000014  E09000014                 5.134553\n",
      "E09000020  E09000020                 5.082175\n",
      "E09000022  E09000022                 4.958195\n",
      "E09000007  E09000007                 4.934044\n",
      "E09000002  E09000002                 4.896427\n",
      "E09000005  E09000005                 4.895463\n",
      "E09000019  E09000019                 4.841878\n",
      "E09000011  E09000011                 4.763566\n",
      "E09000032  E09000032                 4.757575\n",
      "E09000024  E09000024                 4.745151\n",
      "E09000030  E09000030                 4.626735\n",
      "E09000026  E09000026                 4.470190\n",
      "E09000003  E09000003                 4.357784\n",
      "E09000016  E09000016                 4.325869\n",
      "E09000009  E09000009                 4.311772\n",
      "E09000021  E09000021                 4.270037\n",
      "E09000010  E09000010                 4.262748\n",
      "E09000004  E09000004                 4.249835\n",
      "E09000008  E09000008                 4.200985\n",
      "E09000017  E09000017                 4.200284\n",
      "E09000013  E09000013                 4.138940\n",
      "E09000029  E09000029                 4.118867\n",
      "E09000006  E09000006                 4.094846\n",
      "E09000015  E09000015                 4.059151\n",
      "E09000027  E09000027                 4.002760\n",
      "E09000018  E09000018                 3.977073\n"
     ]
    }
   ],
   "source": [
    "def create_price_ratio(borough):\n",
    "    price_1998 = price_change.loc[borough, 1998]\n",
    "    price_2018 = price_change.loc[borough, 2018]\n",
    "    return price_2018 / price_1998\n",
    "price_ratios = price_change.index.to_series(name=\"Borough\").to_frame()\n",
    "price_ratios[\"Price Ratio (2018/1998)\"] = price_ratios[\"Borough\"].apply(create_price_ratio)\n",
    "print(price_ratios.sort_values(by=\"Price Ratio (2018/1998)\", ascending=False))"
   ]
  },
  {
   "cell_type": "code",
   "execution_count": 42,
   "metadata": {},
   "outputs": [
    {
     "name": "stdout",
     "output_type": "stream",
     "text": [
      "      Borough  Price Ratio (2018/1998)\n",
      "11  E09000012                 6.198336\n",
      "30  E09000031                 5.835127\n",
      "27  E09000028                 5.516372\n",
      "22  E09000023                 5.447912\n",
      "24  E09000025                 5.307656\n",
      "0   E09000001                 5.302624\n",
      "13  E09000014                 5.134553\n",
      "19  E09000020                 5.082175\n",
      "21  E09000022                 4.958195\n",
      "6   E09000007                 4.934044\n",
      "1   E09000002                 4.896427\n",
      "4   E09000005                 4.895463\n",
      "18  E09000019                 4.841878\n",
      "10  E09000011                 4.763566\n",
      "31  E09000032                 4.757575\n",
      "23  E09000024                 4.745151\n",
      "29  E09000030                 4.626735\n",
      "25  E09000026                 4.470190\n",
      "2   E09000003                 4.357784\n",
      "15  E09000016                 4.325869\n",
      "8   E09000009                 4.311772\n",
      "20  E09000021                 4.270037\n",
      "9   E09000010                 4.262748\n",
      "3   E09000004                 4.249835\n",
      "7   E09000008                 4.200985\n",
      "16  E09000017                 4.200284\n",
      "12  E09000013                 4.138940\n",
      "28  E09000029                 4.118867\n",
      "5   E09000006                 4.094846\n",
      "14  E09000015                 4.059151\n",
      "26  E09000027                 4.002760\n",
      "17  E09000018                 3.977073\n"
     ]
    }
   ],
   "source": [
    "price_ratios = price_ratios.reset_index(drop=True)\n",
    "price_ratios.columns = [\"Borough\", \"Price Ratio (2018/1998)\"]\n",
    "price_ratios = price_ratios.sort_values(by=\"Price Ratio (2018/1998)\", ascending=False)\n",
    "print(price_ratios)"
   ]
  },
  {
   "cell_type": "markdown",
   "metadata": {
    "colab_type": "text",
    "id": "NzYUI7FxJpgv"
   },
   "source": [
    "### 4. Conclusion\n",
    "What can you conclude? Type out your conclusion below. \n",
    "\n",
    "Look back at your notebook. Think about how you might summarize what you have done, and prepare a quick presentation on it to your mentor at your next meeting. \n",
    "\n",
    "We hope you enjoyed this practical project. It should have consolidated your data hygiene and pandas skills by looking at a real-world problem involving just the kind of dataset you might encounter as a budding data scientist. Congratulations, and looking forward to seeing you at the next step in the course! "
   ]
  },
  {
   "cell_type": "code",
   "execution_count": null,
   "metadata": {},
   "outputs": [],
   "source": [
    "You can conclude that borough E09000012 (6.198336) had the highest price increase over the duration of time."
   ]
  }
 ],
 "metadata": {
  "colab": {
   "collapsed_sections": [],
   "name": "Springboard Data Science Career Track Unit 4 Challenge - Tier 3 Complete .ipynb",
   "provenance": []
  },
  "kernelspec": {
   "display_name": "Python 3 (ipykernel)",
   "language": "python",
   "name": "python3"
  },
  "language_info": {
   "codemirror_mode": {
    "name": "ipython",
    "version": 3
   },
   "file_extension": ".py",
   "mimetype": "text/x-python",
   "name": "python",
   "nbconvert_exporter": "python",
   "pygments_lexer": "ipython3",
   "version": "3.11.7"
  }
 },
 "nbformat": 4,
 "nbformat_minor": 4
}
